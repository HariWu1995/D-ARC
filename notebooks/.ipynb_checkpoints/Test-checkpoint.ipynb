{
 "cells": [
  {
   "cell_type": "code",
   "execution_count": 1,
   "id": "bc89de8b-832b-4be7-bb7c-f48ce8e81332",
   "metadata": {},
   "outputs": [],
   "source": [
    "# !pip install -q rich \"drawsvg[all]~=2.0\"\n",
    "# !pip install -q pipwin\n",
    "# !pipwin install cairocffi \n",
    "# !pipwin install cairosvg"
   ]
  },
  {
   "cell_type": "code",
   "execution_count": 2,
   "id": "beb9220d-6433-44bf-9c1b-084f2bd5cdda",
   "metadata": {},
   "outputs": [],
   "source": [
    "import sys\n",
    "\n",
    "sys.path.append('../src')"
   ]
  },
  {
   "cell_type": "code",
   "execution_count": 3,
   "id": "ac017e6f-7ad6-4adf-9830-80db4b768bd8",
   "metadata": {},
   "outputs": [
    {
     "data": {
      "text/html": [
       "<pre style=\"white-space:pre;overflow-x:auto;line-height:normal;font-family:Menlo,'DejaVu Sans Mono',consolas,'Courier New',monospace\">C:\\Users\\Mr. RIAH\\Documents\\GenAI\\Al3R\n",
       "</pre>\n"
      ],
      "text/plain": [
       "C:\\Users\\Mr. RIAH\\Documents\\GenAI\\Al3R\n"
      ]
     },
     "metadata": {},
     "output_type": "display_data"
    }
   ],
   "source": [
    "import arckit\n",
    "\n",
    "train_set, eval_set = arckit.load_data() # Load ARC1 train/eval"
   ]
  },
  {
   "cell_type": "code",
   "execution_count": 4,
   "id": "b86991f1-cb13-4924-aeac-8a6585700693",
   "metadata": {},
   "outputs": [
    {
     "data": {
      "text/plain": [
       "<TaskSet: 400 tasks>"
      ]
     },
     "execution_count": 4,
     "metadata": {},
     "output_type": "execute_result"
    }
   ],
   "source": [
    "train_set"
   ]
  },
  {
   "cell_type": "code",
   "execution_count": 5,
   "id": "db5ddf35-e4e1-449e-8713-43869a1b57dd",
   "metadata": {},
   "outputs": [
    {
     "data": {
      "text/plain": [
       "<Task-train 007bbfb7 | 5 train | 1 test>"
      ]
     },
     "execution_count": 5,
     "metadata": {},
     "output_type": "execute_result"
    }
   ],
   "source": [
    "task = train_set[0]\n",
    "task"
   ]
  },
  {
   "cell_type": "code",
   "execution_count": 6,
   "id": "ba2d6b29-6ce9-474e-8210-360a689b520a",
   "metadata": {},
   "outputs": [
    {
     "data": {
      "text/html": [
       "<pre style=\"white-space:pre;overflow-x:auto;line-height:normal;font-family:Menlo,'DejaVu Sans Mono',consolas,'Courier New',monospace\"><span style=\"font-style: italic\">                                     &lt;Task-train 007bbfb7 | 5 train | 1 test&gt;                                      </span>\n",
       "┏━━━━━┳━━━━━━━━━━━━━━━┳━━━━━┳━━━━━━━━━━━━━━━┳━━━━━┳━━━━━━━━━━━━━━━┳━━━━━┳━━━━━━━━━━━━━━━┳━━━━━┳━━━━━━━━━━━━━━┳┳━━━┓\n",
       "┃<span style=\"font-weight: bold\"> A-… </span>┃<span style=\"font-weight: bold\">   A-out 9x9   </span>┃<span style=\"font-weight: bold\"> B-… </span>┃<span style=\"font-weight: bold\">   B-out 9x9   </span>┃<span style=\"font-weight: bold\"> C-… </span>┃<span style=\"font-weight: bold\">   C-out 9x9   </span>┃<span style=\"font-weight: bold\"> D-… </span>┃<span style=\"font-weight: bold\">   D-out 9x9   </span>┃<span style=\"font-weight: bold\"> E-… </span>┃<span style=\"font-weight: bold\">  E-out 9x9   </span>┃<span style=\"font-weight: bold\"></span>┃<span style=\"font-weight: bold\"> … </span>┃\n",
       "┡━━━━━╇━━━━━━━━━━━━━━━╇━━━━━╇━━━━━━━━━━━━━━━╇━━━━━╇━━━━━━━━━━━━━━━╇━━━━━╇━━━━━━━━━━━━━━━╇━━━━━╇━━━━━━━━━━━━━━╇╇━━━┩\n",
       "│ <span style=\"color: #000000; text-decoration-color: #000000\">0 </span><span style=\"color: #c0c0c0; text-decoration-color: #c0c0c0\">…</span> │ <span style=\"color: #000000; text-decoration-color: #000000\">0 0 0 0 </span><span style=\"color: #c0c0c0; text-decoration-color: #c0c0c0\">7 7 </span><span style=\"color: #000000; text-decoration-color: #000000\">…</span> │ <span style=\"color: #000080; text-decoration-color: #000080\">4 </span><span style=\"color: #000000; text-decoration-color: #000000\">…</span> │ <span style=\"color: #000080; text-decoration-color: #000080\">4 </span><span style=\"color: #000000; text-decoration-color: #000000\">0 </span><span style=\"color: #000080; text-decoration-color: #000080\">4 </span><span style=\"color: #000000; text-decoration-color: #000000\">0 0 0 </span><span style=\"color: #000080; text-decoration-color: #000080\">…</span> │ <span style=\"color: #000000; text-decoration-color: #000000\">0 …</span> │ <span style=\"color: #000000; text-decoration-color: #000000\">0 0 0 0 0 0 …</span> │ <span style=\"color: #008080; text-decoration-color: #008080\">6 …</span> │ <span style=\"color: #008080; text-decoration-color: #008080\">6 6 </span><span style=\"color: #000000; text-decoration-color: #000000\">0 </span><span style=\"color: #008080; text-decoration-color: #008080\">6 6 </span><span style=\"color: #000000; text-decoration-color: #000000\">0 …</span> │ <span style=\"color: #008000; text-decoration-color: #008000\">2 …</span> │ <span style=\"color: #008000; text-decoration-color: #008000\">2 2 2 2 2 2…</span> ││ <span style=\"color: #c0c0c0; text-decoration-color: #c0c0c0\">…</span> │\n",
       "│ <span style=\"color: #c0c0c0; text-decoration-color: #c0c0c0\">7 …</span> │ <span style=\"color: #000000; text-decoration-color: #000000\">0 0 0 </span><span style=\"color: #c0c0c0; text-decoration-color: #c0c0c0\">7 7 7 …</span> │ <span style=\"color: #000000; text-decoration-color: #000000\">0 …</span> │ <span style=\"color: #000000; text-decoration-color: #000000\">0 0 0 0 0 0 …</span> │ <span style=\"color: #000000; text-decoration-color: #000000\">0 …</span> │ <span style=\"color: #000000; text-decoration-color: #000000\">0 0 0 0 0 0 …</span> │ <span style=\"color: #008080; text-decoration-color: #008080\">6 </span><span style=\"color: #000000; text-decoration-color: #000000\">…</span> │ <span style=\"color: #008080; text-decoration-color: #008080\">6 </span><span style=\"color: #000000; text-decoration-color: #000000\">0 0 </span><span style=\"color: #008080; text-decoration-color: #008080\">6 </span><span style=\"color: #000000; text-decoration-color: #000000\">0 0 …</span> │ <span style=\"color: #000000; text-decoration-color: #000000\">0 …</span> │ <span style=\"color: #000000; text-decoration-color: #000000\">0 0 0 0 0 0…</span> ││ <span style=\"color: #c0c0c0; text-decoration-color: #c0c0c0\">…</span> │\n",
       "│ <span style=\"color: #000000; text-decoration-color: #000000\">0 </span><span style=\"color: #c0c0c0; text-decoration-color: #c0c0c0\">…</span> │ <span style=\"color: #000000; text-decoration-color: #000000\">0 0 0 0 </span><span style=\"color: #c0c0c0; text-decoration-color: #c0c0c0\">7 7 </span><span style=\"color: #000000; text-decoration-color: #000000\">…</span> │ <span style=\"color: #000000; text-decoration-color: #000000\">0 </span><span style=\"color: #000080; text-decoration-color: #000080\">…</span> │ <span style=\"color: #000000; text-decoration-color: #000000\">0 </span><span style=\"color: #000080; text-decoration-color: #000080\">4 </span><span style=\"color: #000000; text-decoration-color: #000000\">0 0 0 0 …</span> │ <span style=\"color: #008000; text-decoration-color: #008000\">2 </span><span style=\"color: #000000; text-decoration-color: #000000\">…</span> │ <span style=\"color: #000000; text-decoration-color: #000000\">0 0 0 0 0 0 …</span> │ <span style=\"color: #000000; text-decoration-color: #000000\">0 </span><span style=\"color: #008080; text-decoration-color: #008080\">…</span> │ <span style=\"color: #000000; text-decoration-color: #000000\">0 </span><span style=\"color: #008080; text-decoration-color: #008080\">6 6 </span><span style=\"color: #000000; text-decoration-color: #000000\">0 </span><span style=\"color: #008080; text-decoration-color: #008080\">6 6 </span><span style=\"color: #000000; text-decoration-color: #000000\">…</span> │ <span style=\"color: #000000; text-decoration-color: #000000\">0 </span><span style=\"color: #008000; text-decoration-color: #008000\">…</span> │ <span style=\"color: #000000; text-decoration-color: #000000\">0 </span><span style=\"color: #008000; text-decoration-color: #008000\">2 2 </span><span style=\"color: #000000; text-decoration-color: #000000\">0 </span><span style=\"color: #008000; text-decoration-color: #008000\">2 2…</span> ││ <span style=\"color: #c0c0c0; text-decoration-color: #c0c0c0\">…</span> │\n",
       "│     │ <span style=\"color: #000000; text-decoration-color: #000000\">0 </span><span style=\"color: #c0c0c0; text-decoration-color: #c0c0c0\">7 7 </span><span style=\"color: #000000; text-decoration-color: #000000\">0 </span><span style=\"color: #c0c0c0; text-decoration-color: #c0c0c0\">7 7 </span><span style=\"color: #000000; text-decoration-color: #000000\">…</span> │     │ <span style=\"color: #000000; text-decoration-color: #000000\">0 0 0 0 0 0 …</span> │     │ <span style=\"color: #000000; text-decoration-color: #000000\">0 0 0 0 0 0 …</span> │     │ <span style=\"color: #008080; text-decoration-color: #008080\">6 6 </span><span style=\"color: #000000; text-decoration-color: #000000\">0 0 0 0 …</span> │     │ <span style=\"color: #000000; text-decoration-color: #000000\">0 0 0 0 0 0…</span> ││   │\n",
       "│     │ <span style=\"color: #c0c0c0; text-decoration-color: #c0c0c0\">7 7 7 7 7 7 …</span> │     │ <span style=\"color: #000000; text-decoration-color: #000000\">0 0 0 0 0 0 …</span> │     │ <span style=\"color: #000000; text-decoration-color: #000000\">0 0 0 0 0 0 …</span> │     │ <span style=\"color: #008080; text-decoration-color: #008080\">6 </span><span style=\"color: #000000; text-decoration-color: #000000\">0 0 0 0 0 …</span> │     │ <span style=\"color: #000000; text-decoration-color: #000000\">0 0 0 0 0 0…</span> ││   │\n",
       "│     │ <span style=\"color: #000000; text-decoration-color: #000000\">0 </span><span style=\"color: #c0c0c0; text-decoration-color: #c0c0c0\">7 7 </span><span style=\"color: #000000; text-decoration-color: #000000\">0 </span><span style=\"color: #c0c0c0; text-decoration-color: #c0c0c0\">7 7 </span><span style=\"color: #000000; text-decoration-color: #000000\">…</span> │     │ <span style=\"color: #000000; text-decoration-color: #000000\">0 0 0 0 0 0 …</span> │     │ <span style=\"color: #000000; text-decoration-color: #000000\">0 0 0 0 0 0 </span><span style=\"color: #008000; text-decoration-color: #008000\">…</span> │     │ <span style=\"color: #000000; text-decoration-color: #000000\">0 </span><span style=\"color: #008080; text-decoration-color: #008080\">6 6 </span><span style=\"color: #000000; text-decoration-color: #000000\">0 0 0 …</span> │     │ <span style=\"color: #000000; text-decoration-color: #000000\">0 0 0 0 0 0…</span> ││   │\n",
       "│     │ <span style=\"color: #000000; text-decoration-color: #000000\">0 0 0 0 </span><span style=\"color: #c0c0c0; text-decoration-color: #c0c0c0\">7 7 </span><span style=\"color: #000000; text-decoration-color: #000000\">…</span> │     │ <span style=\"color: #000000; text-decoration-color: #000000\">0 0 0 </span><span style=\"color: #000080; text-decoration-color: #000080\">4 </span><span style=\"color: #000000; text-decoration-color: #000000\">0 </span><span style=\"color: #000080; text-decoration-color: #000080\">4 </span><span style=\"color: #000000; text-decoration-color: #000000\">…</span> │     │ <span style=\"color: #000000; text-decoration-color: #000000\">0 0 0 0 0 0 …</span> │     │ <span style=\"color: #000000; text-decoration-color: #000000\">0 0 0 </span><span style=\"color: #008080; text-decoration-color: #008080\">6 6 </span><span style=\"color: #000000; text-decoration-color: #000000\">0 </span><span style=\"color: #008080; text-decoration-color: #008080\">…</span> │     │ <span style=\"color: #000000; text-decoration-color: #000000\">0 0 0 </span><span style=\"color: #008000; text-decoration-color: #008000\">2 2 2…</span> ││   │\n",
       "│     │ <span style=\"color: #000000; text-decoration-color: #000000\">0 0 0 </span><span style=\"color: #c0c0c0; text-decoration-color: #c0c0c0\">7 7 7 …</span> │     │ <span style=\"color: #000000; text-decoration-color: #000000\">0 0 0 0 0 0 …</span> │     │ <span style=\"color: #000000; text-decoration-color: #000000\">0 0 </span><span style=\"color: #008000; text-decoration-color: #008000\">2 </span><span style=\"color: #000000; text-decoration-color: #000000\">0 0 0 …</span> │     │ <span style=\"color: #000000; text-decoration-color: #000000\">0 0 0 </span><span style=\"color: #008080; text-decoration-color: #008080\">6 </span><span style=\"color: #000000; text-decoration-color: #000000\">0 0 </span><span style=\"color: #008080; text-decoration-color: #008080\">…</span> │     │ <span style=\"color: #000000; text-decoration-color: #000000\">0 0 0 0 0 0…</span> ││   │\n",
       "│     │ <span style=\"color: #000000; text-decoration-color: #000000\">0 0 0 0 </span><span style=\"color: #c0c0c0; text-decoration-color: #c0c0c0\">7 7 </span><span style=\"color: #000000; text-decoration-color: #000000\">…</span> │     │ <span style=\"color: #000000; text-decoration-color: #000000\">0 0 0 0 </span><span style=\"color: #000080; text-decoration-color: #000080\">4 </span><span style=\"color: #000000; text-decoration-color: #000000\">0 …</span> │     │ <span style=\"color: #008000; text-decoration-color: #008000\">2 </span><span style=\"color: #000000; text-decoration-color: #000000\">0 </span><span style=\"color: #008000; text-decoration-color: #008000\">2 </span><span style=\"color: #000000; text-decoration-color: #000000\">0 0 0 </span><span style=\"color: #008000; text-decoration-color: #008000\">…</span> │     │ <span style=\"color: #000000; text-decoration-color: #000000\">0 0 0 0 </span><span style=\"color: #008080; text-decoration-color: #008080\">6 6 </span><span style=\"color: #000000; text-decoration-color: #000000\">…</span> │     │ <span style=\"color: #000000; text-decoration-color: #000000\">0 0 0 0 </span><span style=\"color: #008000; text-decoration-color: #008000\">2 2…</span> ││   │\n",
       "└─────┴───────────────┴─────┴───────────────┴─────┴───────────────┴─────┴───────────────┴─────┴──────────────┴┴───┘\n",
       "</pre>\n"
      ],
      "text/plain": [
       "\u001b[3m                                     <Task-train 007bbfb7 | 5 train | 1 test>                                      \u001b[0m\n",
       "┏━━━━━┳━━━━━━━━━━━━━━━┳━━━━━┳━━━━━━━━━━━━━━━┳━━━━━┳━━━━━━━━━━━━━━━┳━━━━━┳━━━━━━━━━━━━━━━┳━━━━━┳━━━━━━━━━━━━━━┳┳━━━┓\n",
       "┃\u001b[1m \u001b[0m\u001b[1mA-…\u001b[0m\u001b[1m \u001b[0m┃\u001b[1m \u001b[0m\u001b[1m  A-out 9x9  \u001b[0m\u001b[1m \u001b[0m┃\u001b[1m \u001b[0m\u001b[1mB-…\u001b[0m\u001b[1m \u001b[0m┃\u001b[1m \u001b[0m\u001b[1m  B-out 9x9  \u001b[0m\u001b[1m \u001b[0m┃\u001b[1m \u001b[0m\u001b[1mC-…\u001b[0m\u001b[1m \u001b[0m┃\u001b[1m \u001b[0m\u001b[1m  C-out 9x9  \u001b[0m\u001b[1m \u001b[0m┃\u001b[1m \u001b[0m\u001b[1mD-…\u001b[0m\u001b[1m \u001b[0m┃\u001b[1m \u001b[0m\u001b[1m  D-out 9x9  \u001b[0m\u001b[1m \u001b[0m┃\u001b[1m \u001b[0m\u001b[1mE-…\u001b[0m\u001b[1m \u001b[0m┃\u001b[1m \u001b[0m\u001b[1m E-out 9x9  \u001b[0m\u001b[1m \u001b[0m┃┃\u001b[1m \u001b[0m\u001b[1m…\u001b[0m\u001b[1m \u001b[0m┃\n",
       "┡━━━━━╇━━━━━━━━━━━━━━━╇━━━━━╇━━━━━━━━━━━━━━━╇━━━━━╇━━━━━━━━━━━━━━━╇━━━━━╇━━━━━━━━━━━━━━━╇━━━━━╇━━━━━━━━━━━━━━╇╇━━━┩\n",
       "│ \u001b[30m0 \u001b[0m\u001b[37m…\u001b[0m │ \u001b[30m0 \u001b[0m\u001b[30m0 \u001b[0m\u001b[30m0 \u001b[0m\u001b[30m0 \u001b[0m\u001b[37m7 \u001b[0m\u001b[37m7 \u001b[0m\u001b[30m…\u001b[0m │ \u001b[34m4 \u001b[0m\u001b[30m…\u001b[0m │ \u001b[34m4 \u001b[0m\u001b[30m0 \u001b[0m\u001b[34m4 \u001b[0m\u001b[30m0 \u001b[0m\u001b[30m0 \u001b[0m\u001b[30m0 \u001b[0m\u001b[34m…\u001b[0m │ \u001b[30m0 \u001b[0m\u001b[30m…\u001b[0m │ \u001b[30m0 \u001b[0m\u001b[30m0 \u001b[0m\u001b[30m0 \u001b[0m\u001b[30m0 \u001b[0m\u001b[30m0 \u001b[0m\u001b[30m0 \u001b[0m\u001b[30m…\u001b[0m │ \u001b[36m6 \u001b[0m\u001b[36m…\u001b[0m │ \u001b[36m6 \u001b[0m\u001b[36m6 \u001b[0m\u001b[30m0 \u001b[0m\u001b[36m6 \u001b[0m\u001b[36m6 \u001b[0m\u001b[30m0 \u001b[0m\u001b[30m…\u001b[0m │ \u001b[32m2 \u001b[0m\u001b[32m…\u001b[0m │ \u001b[32m2 \u001b[0m\u001b[32m2 \u001b[0m\u001b[32m2 \u001b[0m\u001b[32m2 \u001b[0m\u001b[32m2 \u001b[0m\u001b[32m2…\u001b[0m ││ \u001b[37m…\u001b[0m │\n",
       "│ \u001b[37m7 \u001b[0m\u001b[37m…\u001b[0m │ \u001b[30m0 \u001b[0m\u001b[30m0 \u001b[0m\u001b[30m0 \u001b[0m\u001b[37m7 \u001b[0m\u001b[37m7 \u001b[0m\u001b[37m7 \u001b[0m\u001b[37m…\u001b[0m │ \u001b[30m0 \u001b[0m\u001b[30m…\u001b[0m │ \u001b[30m0 \u001b[0m\u001b[30m0 \u001b[0m\u001b[30m0 \u001b[0m\u001b[30m0 \u001b[0m\u001b[30m0 \u001b[0m\u001b[30m0 \u001b[0m\u001b[30m…\u001b[0m │ \u001b[30m0 \u001b[0m\u001b[30m…\u001b[0m │ \u001b[30m0 \u001b[0m\u001b[30m0 \u001b[0m\u001b[30m0 \u001b[0m\u001b[30m0 \u001b[0m\u001b[30m0 \u001b[0m\u001b[30m0 \u001b[0m\u001b[30m…\u001b[0m │ \u001b[36m6 \u001b[0m\u001b[30m…\u001b[0m │ \u001b[36m6 \u001b[0m\u001b[30m0 \u001b[0m\u001b[30m0 \u001b[0m\u001b[36m6 \u001b[0m\u001b[30m0 \u001b[0m\u001b[30m0 \u001b[0m\u001b[30m…\u001b[0m │ \u001b[30m0 \u001b[0m\u001b[30m…\u001b[0m │ \u001b[30m0 \u001b[0m\u001b[30m0 \u001b[0m\u001b[30m0 \u001b[0m\u001b[30m0 \u001b[0m\u001b[30m0 \u001b[0m\u001b[30m0…\u001b[0m ││ \u001b[37m…\u001b[0m │\n",
       "│ \u001b[30m0 \u001b[0m\u001b[37m…\u001b[0m │ \u001b[30m0 \u001b[0m\u001b[30m0 \u001b[0m\u001b[30m0 \u001b[0m\u001b[30m0 \u001b[0m\u001b[37m7 \u001b[0m\u001b[37m7 \u001b[0m\u001b[30m…\u001b[0m │ \u001b[30m0 \u001b[0m\u001b[34m…\u001b[0m │ \u001b[30m0 \u001b[0m\u001b[34m4 \u001b[0m\u001b[30m0 \u001b[0m\u001b[30m0 \u001b[0m\u001b[30m0 \u001b[0m\u001b[30m0 \u001b[0m\u001b[30m…\u001b[0m │ \u001b[32m2 \u001b[0m\u001b[30m…\u001b[0m │ \u001b[30m0 \u001b[0m\u001b[30m0 \u001b[0m\u001b[30m0 \u001b[0m\u001b[30m0 \u001b[0m\u001b[30m0 \u001b[0m\u001b[30m0 \u001b[0m\u001b[30m…\u001b[0m │ \u001b[30m0 \u001b[0m\u001b[36m…\u001b[0m │ \u001b[30m0 \u001b[0m\u001b[36m6 \u001b[0m\u001b[36m6 \u001b[0m\u001b[30m0 \u001b[0m\u001b[36m6 \u001b[0m\u001b[36m6 \u001b[0m\u001b[30m…\u001b[0m │ \u001b[30m0 \u001b[0m\u001b[32m…\u001b[0m │ \u001b[30m0 \u001b[0m\u001b[32m2 \u001b[0m\u001b[32m2 \u001b[0m\u001b[30m0 \u001b[0m\u001b[32m2 \u001b[0m\u001b[32m2…\u001b[0m ││ \u001b[37m…\u001b[0m │\n",
       "│     │ \u001b[30m0 \u001b[0m\u001b[37m7 \u001b[0m\u001b[37m7 \u001b[0m\u001b[30m0 \u001b[0m\u001b[37m7 \u001b[0m\u001b[37m7 \u001b[0m\u001b[30m…\u001b[0m │     │ \u001b[30m0 \u001b[0m\u001b[30m0 \u001b[0m\u001b[30m0 \u001b[0m\u001b[30m0 \u001b[0m\u001b[30m0 \u001b[0m\u001b[30m0 \u001b[0m\u001b[30m…\u001b[0m │     │ \u001b[30m0 \u001b[0m\u001b[30m0 \u001b[0m\u001b[30m0 \u001b[0m\u001b[30m0 \u001b[0m\u001b[30m0 \u001b[0m\u001b[30m0 \u001b[0m\u001b[30m…\u001b[0m │     │ \u001b[36m6 \u001b[0m\u001b[36m6 \u001b[0m\u001b[30m0 \u001b[0m\u001b[30m0 \u001b[0m\u001b[30m0 \u001b[0m\u001b[30m0 \u001b[0m\u001b[30m…\u001b[0m │     │ \u001b[30m0 \u001b[0m\u001b[30m0 \u001b[0m\u001b[30m0 \u001b[0m\u001b[30m0 \u001b[0m\u001b[30m0 \u001b[0m\u001b[30m0…\u001b[0m ││   │\n",
       "│     │ \u001b[37m7 \u001b[0m\u001b[37m7 \u001b[0m\u001b[37m7 \u001b[0m\u001b[37m7 \u001b[0m\u001b[37m7 \u001b[0m\u001b[37m7 \u001b[0m\u001b[37m…\u001b[0m │     │ \u001b[30m0 \u001b[0m\u001b[30m0 \u001b[0m\u001b[30m0 \u001b[0m\u001b[30m0 \u001b[0m\u001b[30m0 \u001b[0m\u001b[30m0 \u001b[0m\u001b[30m…\u001b[0m │     │ \u001b[30m0 \u001b[0m\u001b[30m0 \u001b[0m\u001b[30m0 \u001b[0m\u001b[30m0 \u001b[0m\u001b[30m0 \u001b[0m\u001b[30m0 \u001b[0m\u001b[30m…\u001b[0m │     │ \u001b[36m6 \u001b[0m\u001b[30m0 \u001b[0m\u001b[30m0 \u001b[0m\u001b[30m0 \u001b[0m\u001b[30m0 \u001b[0m\u001b[30m0 \u001b[0m\u001b[30m…\u001b[0m │     │ \u001b[30m0 \u001b[0m\u001b[30m0 \u001b[0m\u001b[30m0 \u001b[0m\u001b[30m0 \u001b[0m\u001b[30m0 \u001b[0m\u001b[30m0…\u001b[0m ││   │\n",
       "│     │ \u001b[30m0 \u001b[0m\u001b[37m7 \u001b[0m\u001b[37m7 \u001b[0m\u001b[30m0 \u001b[0m\u001b[37m7 \u001b[0m\u001b[37m7 \u001b[0m\u001b[30m…\u001b[0m │     │ \u001b[30m0 \u001b[0m\u001b[30m0 \u001b[0m\u001b[30m0 \u001b[0m\u001b[30m0 \u001b[0m\u001b[30m0 \u001b[0m\u001b[30m0 \u001b[0m\u001b[30m…\u001b[0m │     │ \u001b[30m0 \u001b[0m\u001b[30m0 \u001b[0m\u001b[30m0 \u001b[0m\u001b[30m0 \u001b[0m\u001b[30m0 \u001b[0m\u001b[30m0 \u001b[0m\u001b[32m…\u001b[0m │     │ \u001b[30m0 \u001b[0m\u001b[36m6 \u001b[0m\u001b[36m6 \u001b[0m\u001b[30m0 \u001b[0m\u001b[30m0 \u001b[0m\u001b[30m0 \u001b[0m\u001b[30m…\u001b[0m │     │ \u001b[30m0 \u001b[0m\u001b[30m0 \u001b[0m\u001b[30m0 \u001b[0m\u001b[30m0 \u001b[0m\u001b[30m0 \u001b[0m\u001b[30m0…\u001b[0m ││   │\n",
       "│     │ \u001b[30m0 \u001b[0m\u001b[30m0 \u001b[0m\u001b[30m0 \u001b[0m\u001b[30m0 \u001b[0m\u001b[37m7 \u001b[0m\u001b[37m7 \u001b[0m\u001b[30m…\u001b[0m │     │ \u001b[30m0 \u001b[0m\u001b[30m0 \u001b[0m\u001b[30m0 \u001b[0m\u001b[34m4 \u001b[0m\u001b[30m0 \u001b[0m\u001b[34m4 \u001b[0m\u001b[30m…\u001b[0m │     │ \u001b[30m0 \u001b[0m\u001b[30m0 \u001b[0m\u001b[30m0 \u001b[0m\u001b[30m0 \u001b[0m\u001b[30m0 \u001b[0m\u001b[30m0 \u001b[0m\u001b[30m…\u001b[0m │     │ \u001b[30m0 \u001b[0m\u001b[30m0 \u001b[0m\u001b[30m0 \u001b[0m\u001b[36m6 \u001b[0m\u001b[36m6 \u001b[0m\u001b[30m0 \u001b[0m\u001b[36m…\u001b[0m │     │ \u001b[30m0 \u001b[0m\u001b[30m0 \u001b[0m\u001b[30m0 \u001b[0m\u001b[32m2 \u001b[0m\u001b[32m2 \u001b[0m\u001b[32m2…\u001b[0m ││   │\n",
       "│     │ \u001b[30m0 \u001b[0m\u001b[30m0 \u001b[0m\u001b[30m0 \u001b[0m\u001b[37m7 \u001b[0m\u001b[37m7 \u001b[0m\u001b[37m7 \u001b[0m\u001b[37m…\u001b[0m │     │ \u001b[30m0 \u001b[0m\u001b[30m0 \u001b[0m\u001b[30m0 \u001b[0m\u001b[30m0 \u001b[0m\u001b[30m0 \u001b[0m\u001b[30m0 \u001b[0m\u001b[30m…\u001b[0m │     │ \u001b[30m0 \u001b[0m\u001b[30m0 \u001b[0m\u001b[32m2 \u001b[0m\u001b[30m0 \u001b[0m\u001b[30m0 \u001b[0m\u001b[30m0 \u001b[0m\u001b[30m…\u001b[0m │     │ \u001b[30m0 \u001b[0m\u001b[30m0 \u001b[0m\u001b[30m0 \u001b[0m\u001b[36m6 \u001b[0m\u001b[30m0 \u001b[0m\u001b[30m0 \u001b[0m\u001b[36m…\u001b[0m │     │ \u001b[30m0 \u001b[0m\u001b[30m0 \u001b[0m\u001b[30m0 \u001b[0m\u001b[30m0 \u001b[0m\u001b[30m0 \u001b[0m\u001b[30m0…\u001b[0m ││   │\n",
       "│     │ \u001b[30m0 \u001b[0m\u001b[30m0 \u001b[0m\u001b[30m0 \u001b[0m\u001b[30m0 \u001b[0m\u001b[37m7 \u001b[0m\u001b[37m7 \u001b[0m\u001b[30m…\u001b[0m │     │ \u001b[30m0 \u001b[0m\u001b[30m0 \u001b[0m\u001b[30m0 \u001b[0m\u001b[30m0 \u001b[0m\u001b[34m4 \u001b[0m\u001b[30m0 \u001b[0m\u001b[30m…\u001b[0m │     │ \u001b[32m2 \u001b[0m\u001b[30m0 \u001b[0m\u001b[32m2 \u001b[0m\u001b[30m0 \u001b[0m\u001b[30m0 \u001b[0m\u001b[30m0 \u001b[0m\u001b[32m…\u001b[0m │     │ \u001b[30m0 \u001b[0m\u001b[30m0 \u001b[0m\u001b[30m0 \u001b[0m\u001b[30m0 \u001b[0m\u001b[36m6 \u001b[0m\u001b[36m6 \u001b[0m\u001b[30m…\u001b[0m │     │ \u001b[30m0 \u001b[0m\u001b[30m0 \u001b[0m\u001b[30m0 \u001b[0m\u001b[30m0 \u001b[0m\u001b[32m2 \u001b[0m\u001b[32m2…\u001b[0m ││   │\n",
       "└─────┴───────────────┴─────┴───────────────┴─────┴───────────────┴─────┴───────────────┴─────┴──────────────┴┴───┘\n"
      ]
     },
     "metadata": {},
     "output_type": "display_data"
    },
    {
     "data": {
      "text/html": [
       "<pre style=\"white-space:pre;overflow-x:auto;line-height:normal;font-family:Menlo,'DejaVu Sans Mono',consolas,'Courier New',monospace\"><span style=\"font-style: italic\">                                     &lt;Task-train 007bbfb7 | 5 train | 1 test&gt;                                      </span>\n",
       "┏━━━━━┳━━━━━━━━━━━━━━━┳━━━━━┳━━━━━━━━━━━━━━━┳━━━━━┳━━━━━━━━━━━━━━━┳━━━━━┳━━━━━━━━━━━━━━━┳━━━━━┳━━━━━━━━━━━━━━┳┳━━━┓\n",
       "┃<span style=\"font-weight: bold\"> A-… </span>┃<span style=\"font-weight: bold\">   A-out 9x9   </span>┃<span style=\"font-weight: bold\"> B-… </span>┃<span style=\"font-weight: bold\">   B-out 9x9   </span>┃<span style=\"font-weight: bold\"> C-… </span>┃<span style=\"font-weight: bold\">   C-out 9x9   </span>┃<span style=\"font-weight: bold\"> D-… </span>┃<span style=\"font-weight: bold\">   D-out 9x9   </span>┃<span style=\"font-weight: bold\"> E-… </span>┃<span style=\"font-weight: bold\">  E-out 9x9   </span>┃<span style=\"font-weight: bold\"></span>┃<span style=\"font-weight: bold\"> … </span>┃\n",
       "┡━━━━━╇━━━━━━━━━━━━━━━╇━━━━━╇━━━━━━━━━━━━━━━╇━━━━━╇━━━━━━━━━━━━━━━╇━━━━━╇━━━━━━━━━━━━━━━╇━━━━━╇━━━━━━━━━━━━━━╇╇━━━┩\n",
       "│ <span style=\"color: #000000; text-decoration-color: #000000\">0 </span><span style=\"color: #c0c0c0; text-decoration-color: #c0c0c0\">…</span> │ <span style=\"color: #000000; text-decoration-color: #000000\">0 0 0 0 </span><span style=\"color: #c0c0c0; text-decoration-color: #c0c0c0\">7 7 </span><span style=\"color: #000000; text-decoration-color: #000000\">…</span> │ <span style=\"color: #000080; text-decoration-color: #000080\">4 </span><span style=\"color: #000000; text-decoration-color: #000000\">…</span> │ <span style=\"color: #000080; text-decoration-color: #000080\">4 </span><span style=\"color: #000000; text-decoration-color: #000000\">0 </span><span style=\"color: #000080; text-decoration-color: #000080\">4 </span><span style=\"color: #000000; text-decoration-color: #000000\">0 0 0 </span><span style=\"color: #000080; text-decoration-color: #000080\">…</span> │ <span style=\"color: #000000; text-decoration-color: #000000\">0 …</span> │ <span style=\"color: #000000; text-decoration-color: #000000\">0 0 0 0 0 0 …</span> │ <span style=\"color: #008080; text-decoration-color: #008080\">6 …</span> │ <span style=\"color: #008080; text-decoration-color: #008080\">6 6 </span><span style=\"color: #000000; text-decoration-color: #000000\">0 </span><span style=\"color: #008080; text-decoration-color: #008080\">6 6 </span><span style=\"color: #000000; text-decoration-color: #000000\">0 …</span> │ <span style=\"color: #008000; text-decoration-color: #008000\">2 …</span> │ <span style=\"color: #008000; text-decoration-color: #008000\">2 2 2 2 2 2…</span> ││ <span style=\"color: #c0c0c0; text-decoration-color: #c0c0c0\">…</span> │\n",
       "│ <span style=\"color: #c0c0c0; text-decoration-color: #c0c0c0\">7 …</span> │ <span style=\"color: #000000; text-decoration-color: #000000\">0 0 0 </span><span style=\"color: #c0c0c0; text-decoration-color: #c0c0c0\">7 7 7 …</span> │ <span style=\"color: #000000; text-decoration-color: #000000\">0 …</span> │ <span style=\"color: #000000; text-decoration-color: #000000\">0 0 0 0 0 0 …</span> │ <span style=\"color: #000000; text-decoration-color: #000000\">0 …</span> │ <span style=\"color: #000000; text-decoration-color: #000000\">0 0 0 0 0 0 …</span> │ <span style=\"color: #008080; text-decoration-color: #008080\">6 </span><span style=\"color: #000000; text-decoration-color: #000000\">…</span> │ <span style=\"color: #008080; text-decoration-color: #008080\">6 </span><span style=\"color: #000000; text-decoration-color: #000000\">0 0 </span><span style=\"color: #008080; text-decoration-color: #008080\">6 </span><span style=\"color: #000000; text-decoration-color: #000000\">0 0 …</span> │ <span style=\"color: #000000; text-decoration-color: #000000\">0 …</span> │ <span style=\"color: #000000; text-decoration-color: #000000\">0 0 0 0 0 0…</span> ││ <span style=\"color: #c0c0c0; text-decoration-color: #c0c0c0\">…</span> │\n",
       "│ <span style=\"color: #000000; text-decoration-color: #000000\">0 </span><span style=\"color: #c0c0c0; text-decoration-color: #c0c0c0\">…</span> │ <span style=\"color: #000000; text-decoration-color: #000000\">0 0 0 0 </span><span style=\"color: #c0c0c0; text-decoration-color: #c0c0c0\">7 7 </span><span style=\"color: #000000; text-decoration-color: #000000\">…</span> │ <span style=\"color: #000000; text-decoration-color: #000000\">0 </span><span style=\"color: #000080; text-decoration-color: #000080\">…</span> │ <span style=\"color: #000000; text-decoration-color: #000000\">0 </span><span style=\"color: #000080; text-decoration-color: #000080\">4 </span><span style=\"color: #000000; text-decoration-color: #000000\">0 0 0 0 …</span> │ <span style=\"color: #008000; text-decoration-color: #008000\">2 </span><span style=\"color: #000000; text-decoration-color: #000000\">…</span> │ <span style=\"color: #000000; text-decoration-color: #000000\">0 0 0 0 0 0 …</span> │ <span style=\"color: #000000; text-decoration-color: #000000\">0 </span><span style=\"color: #008080; text-decoration-color: #008080\">…</span> │ <span style=\"color: #000000; text-decoration-color: #000000\">0 </span><span style=\"color: #008080; text-decoration-color: #008080\">6 6 </span><span style=\"color: #000000; text-decoration-color: #000000\">0 </span><span style=\"color: #008080; text-decoration-color: #008080\">6 6 </span><span style=\"color: #000000; text-decoration-color: #000000\">…</span> │ <span style=\"color: #000000; text-decoration-color: #000000\">0 </span><span style=\"color: #008000; text-decoration-color: #008000\">…</span> │ <span style=\"color: #000000; text-decoration-color: #000000\">0 </span><span style=\"color: #008000; text-decoration-color: #008000\">2 2 </span><span style=\"color: #000000; text-decoration-color: #000000\">0 </span><span style=\"color: #008000; text-decoration-color: #008000\">2 2…</span> ││ <span style=\"color: #c0c0c0; text-decoration-color: #c0c0c0\">…</span> │\n",
       "│     │ <span style=\"color: #000000; text-decoration-color: #000000\">0 </span><span style=\"color: #c0c0c0; text-decoration-color: #c0c0c0\">7 7 </span><span style=\"color: #000000; text-decoration-color: #000000\">0 </span><span style=\"color: #c0c0c0; text-decoration-color: #c0c0c0\">7 7 </span><span style=\"color: #000000; text-decoration-color: #000000\">…</span> │     │ <span style=\"color: #000000; text-decoration-color: #000000\">0 0 0 0 0 0 …</span> │     │ <span style=\"color: #000000; text-decoration-color: #000000\">0 0 0 0 0 0 …</span> │     │ <span style=\"color: #008080; text-decoration-color: #008080\">6 6 </span><span style=\"color: #000000; text-decoration-color: #000000\">0 0 0 0 …</span> │     │ <span style=\"color: #000000; text-decoration-color: #000000\">0 0 0 0 0 0…</span> ││   │\n",
       "│     │ <span style=\"color: #c0c0c0; text-decoration-color: #c0c0c0\">7 7 7 7 7 7 …</span> │     │ <span style=\"color: #000000; text-decoration-color: #000000\">0 0 0 0 0 0 …</span> │     │ <span style=\"color: #000000; text-decoration-color: #000000\">0 0 0 0 0 0 …</span> │     │ <span style=\"color: #008080; text-decoration-color: #008080\">6 </span><span style=\"color: #000000; text-decoration-color: #000000\">0 0 0 0 0 …</span> │     │ <span style=\"color: #000000; text-decoration-color: #000000\">0 0 0 0 0 0…</span> ││   │\n",
       "│     │ <span style=\"color: #000000; text-decoration-color: #000000\">0 </span><span style=\"color: #c0c0c0; text-decoration-color: #c0c0c0\">7 7 </span><span style=\"color: #000000; text-decoration-color: #000000\">0 </span><span style=\"color: #c0c0c0; text-decoration-color: #c0c0c0\">7 7 </span><span style=\"color: #000000; text-decoration-color: #000000\">…</span> │     │ <span style=\"color: #000000; text-decoration-color: #000000\">0 0 0 0 0 0 …</span> │     │ <span style=\"color: #000000; text-decoration-color: #000000\">0 0 0 0 0 0 </span><span style=\"color: #008000; text-decoration-color: #008000\">…</span> │     │ <span style=\"color: #000000; text-decoration-color: #000000\">0 </span><span style=\"color: #008080; text-decoration-color: #008080\">6 6 </span><span style=\"color: #000000; text-decoration-color: #000000\">0 0 0 …</span> │     │ <span style=\"color: #000000; text-decoration-color: #000000\">0 0 0 0 0 0…</span> ││   │\n",
       "│     │ <span style=\"color: #000000; text-decoration-color: #000000\">0 0 0 0 </span><span style=\"color: #c0c0c0; text-decoration-color: #c0c0c0\">7 7 </span><span style=\"color: #000000; text-decoration-color: #000000\">…</span> │     │ <span style=\"color: #000000; text-decoration-color: #000000\">0 0 0 </span><span style=\"color: #000080; text-decoration-color: #000080\">4 </span><span style=\"color: #000000; text-decoration-color: #000000\">0 </span><span style=\"color: #000080; text-decoration-color: #000080\">4 </span><span style=\"color: #000000; text-decoration-color: #000000\">…</span> │     │ <span style=\"color: #000000; text-decoration-color: #000000\">0 0 0 0 0 0 …</span> │     │ <span style=\"color: #000000; text-decoration-color: #000000\">0 0 0 </span><span style=\"color: #008080; text-decoration-color: #008080\">6 6 </span><span style=\"color: #000000; text-decoration-color: #000000\">0 </span><span style=\"color: #008080; text-decoration-color: #008080\">…</span> │     │ <span style=\"color: #000000; text-decoration-color: #000000\">0 0 0 </span><span style=\"color: #008000; text-decoration-color: #008000\">2 2 2…</span> ││   │\n",
       "│     │ <span style=\"color: #000000; text-decoration-color: #000000\">0 0 0 </span><span style=\"color: #c0c0c0; text-decoration-color: #c0c0c0\">7 7 7 …</span> │     │ <span style=\"color: #000000; text-decoration-color: #000000\">0 0 0 0 0 0 …</span> │     │ <span style=\"color: #000000; text-decoration-color: #000000\">0 0 </span><span style=\"color: #008000; text-decoration-color: #008000\">2 </span><span style=\"color: #000000; text-decoration-color: #000000\">0 0 0 …</span> │     │ <span style=\"color: #000000; text-decoration-color: #000000\">0 0 0 </span><span style=\"color: #008080; text-decoration-color: #008080\">6 </span><span style=\"color: #000000; text-decoration-color: #000000\">0 0 </span><span style=\"color: #008080; text-decoration-color: #008080\">…</span> │     │ <span style=\"color: #000000; text-decoration-color: #000000\">0 0 0 0 0 0…</span> ││   │\n",
       "│     │ <span style=\"color: #000000; text-decoration-color: #000000\">0 0 0 0 </span><span style=\"color: #c0c0c0; text-decoration-color: #c0c0c0\">7 7 </span><span style=\"color: #000000; text-decoration-color: #000000\">…</span> │     │ <span style=\"color: #000000; text-decoration-color: #000000\">0 0 0 0 </span><span style=\"color: #000080; text-decoration-color: #000080\">4 </span><span style=\"color: #000000; text-decoration-color: #000000\">0 …</span> │     │ <span style=\"color: #008000; text-decoration-color: #008000\">2 </span><span style=\"color: #000000; text-decoration-color: #000000\">0 </span><span style=\"color: #008000; text-decoration-color: #008000\">2 </span><span style=\"color: #000000; text-decoration-color: #000000\">0 0 0 </span><span style=\"color: #008000; text-decoration-color: #008000\">…</span> │     │ <span style=\"color: #000000; text-decoration-color: #000000\">0 0 0 0 </span><span style=\"color: #008080; text-decoration-color: #008080\">6 6 </span><span style=\"color: #000000; text-decoration-color: #000000\">…</span> │     │ <span style=\"color: #000000; text-decoration-color: #000000\">0 0 0 0 </span><span style=\"color: #008000; text-decoration-color: #008000\">2 2…</span> ││   │\n",
       "└─────┴───────────────┴─────┴───────────────┴─────┴───────────────┴─────┴───────────────┴─────┴──────────────┴┴───┘\n",
       "</pre>\n"
      ],
      "text/plain": [
       "\u001b[3m                                     <Task-train 007bbfb7 | 5 train | 1 test>                                      \u001b[0m\n",
       "┏━━━━━┳━━━━━━━━━━━━━━━┳━━━━━┳━━━━━━━━━━━━━━━┳━━━━━┳━━━━━━━━━━━━━━━┳━━━━━┳━━━━━━━━━━━━━━━┳━━━━━┳━━━━━━━━━━━━━━┳┳━━━┓\n",
       "┃\u001b[1m \u001b[0m\u001b[1mA-…\u001b[0m\u001b[1m \u001b[0m┃\u001b[1m \u001b[0m\u001b[1m  A-out 9x9  \u001b[0m\u001b[1m \u001b[0m┃\u001b[1m \u001b[0m\u001b[1mB-…\u001b[0m\u001b[1m \u001b[0m┃\u001b[1m \u001b[0m\u001b[1m  B-out 9x9  \u001b[0m\u001b[1m \u001b[0m┃\u001b[1m \u001b[0m\u001b[1mC-…\u001b[0m\u001b[1m \u001b[0m┃\u001b[1m \u001b[0m\u001b[1m  C-out 9x9  \u001b[0m\u001b[1m \u001b[0m┃\u001b[1m \u001b[0m\u001b[1mD-…\u001b[0m\u001b[1m \u001b[0m┃\u001b[1m \u001b[0m\u001b[1m  D-out 9x9  \u001b[0m\u001b[1m \u001b[0m┃\u001b[1m \u001b[0m\u001b[1mE-…\u001b[0m\u001b[1m \u001b[0m┃\u001b[1m \u001b[0m\u001b[1m E-out 9x9  \u001b[0m\u001b[1m \u001b[0m┃┃\u001b[1m \u001b[0m\u001b[1m…\u001b[0m\u001b[1m \u001b[0m┃\n",
       "┡━━━━━╇━━━━━━━━━━━━━━━╇━━━━━╇━━━━━━━━━━━━━━━╇━━━━━╇━━━━━━━━━━━━━━━╇━━━━━╇━━━━━━━━━━━━━━━╇━━━━━╇━━━━━━━━━━━━━━╇╇━━━┩\n",
       "│ \u001b[30m0 \u001b[0m\u001b[37m…\u001b[0m │ \u001b[30m0 \u001b[0m\u001b[30m0 \u001b[0m\u001b[30m0 \u001b[0m\u001b[30m0 \u001b[0m\u001b[37m7 \u001b[0m\u001b[37m7 \u001b[0m\u001b[30m…\u001b[0m │ \u001b[34m4 \u001b[0m\u001b[30m…\u001b[0m │ \u001b[34m4 \u001b[0m\u001b[30m0 \u001b[0m\u001b[34m4 \u001b[0m\u001b[30m0 \u001b[0m\u001b[30m0 \u001b[0m\u001b[30m0 \u001b[0m\u001b[34m…\u001b[0m │ \u001b[30m0 \u001b[0m\u001b[30m…\u001b[0m │ \u001b[30m0 \u001b[0m\u001b[30m0 \u001b[0m\u001b[30m0 \u001b[0m\u001b[30m0 \u001b[0m\u001b[30m0 \u001b[0m\u001b[30m0 \u001b[0m\u001b[30m…\u001b[0m │ \u001b[36m6 \u001b[0m\u001b[36m…\u001b[0m │ \u001b[36m6 \u001b[0m\u001b[36m6 \u001b[0m\u001b[30m0 \u001b[0m\u001b[36m6 \u001b[0m\u001b[36m6 \u001b[0m\u001b[30m0 \u001b[0m\u001b[30m…\u001b[0m │ \u001b[32m2 \u001b[0m\u001b[32m…\u001b[0m │ \u001b[32m2 \u001b[0m\u001b[32m2 \u001b[0m\u001b[32m2 \u001b[0m\u001b[32m2 \u001b[0m\u001b[32m2 \u001b[0m\u001b[32m2…\u001b[0m ││ \u001b[37m…\u001b[0m │\n",
       "│ \u001b[37m7 \u001b[0m\u001b[37m…\u001b[0m │ \u001b[30m0 \u001b[0m\u001b[30m0 \u001b[0m\u001b[30m0 \u001b[0m\u001b[37m7 \u001b[0m\u001b[37m7 \u001b[0m\u001b[37m7 \u001b[0m\u001b[37m…\u001b[0m │ \u001b[30m0 \u001b[0m\u001b[30m…\u001b[0m │ \u001b[30m0 \u001b[0m\u001b[30m0 \u001b[0m\u001b[30m0 \u001b[0m\u001b[30m0 \u001b[0m\u001b[30m0 \u001b[0m\u001b[30m0 \u001b[0m\u001b[30m…\u001b[0m │ \u001b[30m0 \u001b[0m\u001b[30m…\u001b[0m │ \u001b[30m0 \u001b[0m\u001b[30m0 \u001b[0m\u001b[30m0 \u001b[0m\u001b[30m0 \u001b[0m\u001b[30m0 \u001b[0m\u001b[30m0 \u001b[0m\u001b[30m…\u001b[0m │ \u001b[36m6 \u001b[0m\u001b[30m…\u001b[0m │ \u001b[36m6 \u001b[0m\u001b[30m0 \u001b[0m\u001b[30m0 \u001b[0m\u001b[36m6 \u001b[0m\u001b[30m0 \u001b[0m\u001b[30m0 \u001b[0m\u001b[30m…\u001b[0m │ \u001b[30m0 \u001b[0m\u001b[30m…\u001b[0m │ \u001b[30m0 \u001b[0m\u001b[30m0 \u001b[0m\u001b[30m0 \u001b[0m\u001b[30m0 \u001b[0m\u001b[30m0 \u001b[0m\u001b[30m0…\u001b[0m ││ \u001b[37m…\u001b[0m │\n",
       "│ \u001b[30m0 \u001b[0m\u001b[37m…\u001b[0m │ \u001b[30m0 \u001b[0m\u001b[30m0 \u001b[0m\u001b[30m0 \u001b[0m\u001b[30m0 \u001b[0m\u001b[37m7 \u001b[0m\u001b[37m7 \u001b[0m\u001b[30m…\u001b[0m │ \u001b[30m0 \u001b[0m\u001b[34m…\u001b[0m │ \u001b[30m0 \u001b[0m\u001b[34m4 \u001b[0m\u001b[30m0 \u001b[0m\u001b[30m0 \u001b[0m\u001b[30m0 \u001b[0m\u001b[30m0 \u001b[0m\u001b[30m…\u001b[0m │ \u001b[32m2 \u001b[0m\u001b[30m…\u001b[0m │ \u001b[30m0 \u001b[0m\u001b[30m0 \u001b[0m\u001b[30m0 \u001b[0m\u001b[30m0 \u001b[0m\u001b[30m0 \u001b[0m\u001b[30m0 \u001b[0m\u001b[30m…\u001b[0m │ \u001b[30m0 \u001b[0m\u001b[36m…\u001b[0m │ \u001b[30m0 \u001b[0m\u001b[36m6 \u001b[0m\u001b[36m6 \u001b[0m\u001b[30m0 \u001b[0m\u001b[36m6 \u001b[0m\u001b[36m6 \u001b[0m\u001b[30m…\u001b[0m │ \u001b[30m0 \u001b[0m\u001b[32m…\u001b[0m │ \u001b[30m0 \u001b[0m\u001b[32m2 \u001b[0m\u001b[32m2 \u001b[0m\u001b[30m0 \u001b[0m\u001b[32m2 \u001b[0m\u001b[32m2…\u001b[0m ││ \u001b[37m…\u001b[0m │\n",
       "│     │ \u001b[30m0 \u001b[0m\u001b[37m7 \u001b[0m\u001b[37m7 \u001b[0m\u001b[30m0 \u001b[0m\u001b[37m7 \u001b[0m\u001b[37m7 \u001b[0m\u001b[30m…\u001b[0m │     │ \u001b[30m0 \u001b[0m\u001b[30m0 \u001b[0m\u001b[30m0 \u001b[0m\u001b[30m0 \u001b[0m\u001b[30m0 \u001b[0m\u001b[30m0 \u001b[0m\u001b[30m…\u001b[0m │     │ \u001b[30m0 \u001b[0m\u001b[30m0 \u001b[0m\u001b[30m0 \u001b[0m\u001b[30m0 \u001b[0m\u001b[30m0 \u001b[0m\u001b[30m0 \u001b[0m\u001b[30m…\u001b[0m │     │ \u001b[36m6 \u001b[0m\u001b[36m6 \u001b[0m\u001b[30m0 \u001b[0m\u001b[30m0 \u001b[0m\u001b[30m0 \u001b[0m\u001b[30m0 \u001b[0m\u001b[30m…\u001b[0m │     │ \u001b[30m0 \u001b[0m\u001b[30m0 \u001b[0m\u001b[30m0 \u001b[0m\u001b[30m0 \u001b[0m\u001b[30m0 \u001b[0m\u001b[30m0…\u001b[0m ││   │\n",
       "│     │ \u001b[37m7 \u001b[0m\u001b[37m7 \u001b[0m\u001b[37m7 \u001b[0m\u001b[37m7 \u001b[0m\u001b[37m7 \u001b[0m\u001b[37m7 \u001b[0m\u001b[37m…\u001b[0m │     │ \u001b[30m0 \u001b[0m\u001b[30m0 \u001b[0m\u001b[30m0 \u001b[0m\u001b[30m0 \u001b[0m\u001b[30m0 \u001b[0m\u001b[30m0 \u001b[0m\u001b[30m…\u001b[0m │     │ \u001b[30m0 \u001b[0m\u001b[30m0 \u001b[0m\u001b[30m0 \u001b[0m\u001b[30m0 \u001b[0m\u001b[30m0 \u001b[0m\u001b[30m0 \u001b[0m\u001b[30m…\u001b[0m │     │ \u001b[36m6 \u001b[0m\u001b[30m0 \u001b[0m\u001b[30m0 \u001b[0m\u001b[30m0 \u001b[0m\u001b[30m0 \u001b[0m\u001b[30m0 \u001b[0m\u001b[30m…\u001b[0m │     │ \u001b[30m0 \u001b[0m\u001b[30m0 \u001b[0m\u001b[30m0 \u001b[0m\u001b[30m0 \u001b[0m\u001b[30m0 \u001b[0m\u001b[30m0…\u001b[0m ││   │\n",
       "│     │ \u001b[30m0 \u001b[0m\u001b[37m7 \u001b[0m\u001b[37m7 \u001b[0m\u001b[30m0 \u001b[0m\u001b[37m7 \u001b[0m\u001b[37m7 \u001b[0m\u001b[30m…\u001b[0m │     │ \u001b[30m0 \u001b[0m\u001b[30m0 \u001b[0m\u001b[30m0 \u001b[0m\u001b[30m0 \u001b[0m\u001b[30m0 \u001b[0m\u001b[30m0 \u001b[0m\u001b[30m…\u001b[0m │     │ \u001b[30m0 \u001b[0m\u001b[30m0 \u001b[0m\u001b[30m0 \u001b[0m\u001b[30m0 \u001b[0m\u001b[30m0 \u001b[0m\u001b[30m0 \u001b[0m\u001b[32m…\u001b[0m │     │ \u001b[30m0 \u001b[0m\u001b[36m6 \u001b[0m\u001b[36m6 \u001b[0m\u001b[30m0 \u001b[0m\u001b[30m0 \u001b[0m\u001b[30m0 \u001b[0m\u001b[30m…\u001b[0m │     │ \u001b[30m0 \u001b[0m\u001b[30m0 \u001b[0m\u001b[30m0 \u001b[0m\u001b[30m0 \u001b[0m\u001b[30m0 \u001b[0m\u001b[30m0…\u001b[0m ││   │\n",
       "│     │ \u001b[30m0 \u001b[0m\u001b[30m0 \u001b[0m\u001b[30m0 \u001b[0m\u001b[30m0 \u001b[0m\u001b[37m7 \u001b[0m\u001b[37m7 \u001b[0m\u001b[30m…\u001b[0m │     │ \u001b[30m0 \u001b[0m\u001b[30m0 \u001b[0m\u001b[30m0 \u001b[0m\u001b[34m4 \u001b[0m\u001b[30m0 \u001b[0m\u001b[34m4 \u001b[0m\u001b[30m…\u001b[0m │     │ \u001b[30m0 \u001b[0m\u001b[30m0 \u001b[0m\u001b[30m0 \u001b[0m\u001b[30m0 \u001b[0m\u001b[30m0 \u001b[0m\u001b[30m0 \u001b[0m\u001b[30m…\u001b[0m │     │ \u001b[30m0 \u001b[0m\u001b[30m0 \u001b[0m\u001b[30m0 \u001b[0m\u001b[36m6 \u001b[0m\u001b[36m6 \u001b[0m\u001b[30m0 \u001b[0m\u001b[36m…\u001b[0m │     │ \u001b[30m0 \u001b[0m\u001b[30m0 \u001b[0m\u001b[30m0 \u001b[0m\u001b[32m2 \u001b[0m\u001b[32m2 \u001b[0m\u001b[32m2…\u001b[0m ││   │\n",
       "│     │ \u001b[30m0 \u001b[0m\u001b[30m0 \u001b[0m\u001b[30m0 \u001b[0m\u001b[37m7 \u001b[0m\u001b[37m7 \u001b[0m\u001b[37m7 \u001b[0m\u001b[37m…\u001b[0m │     │ \u001b[30m0 \u001b[0m\u001b[30m0 \u001b[0m\u001b[30m0 \u001b[0m\u001b[30m0 \u001b[0m\u001b[30m0 \u001b[0m\u001b[30m0 \u001b[0m\u001b[30m…\u001b[0m │     │ \u001b[30m0 \u001b[0m\u001b[30m0 \u001b[0m\u001b[32m2 \u001b[0m\u001b[30m0 \u001b[0m\u001b[30m0 \u001b[0m\u001b[30m0 \u001b[0m\u001b[30m…\u001b[0m │     │ \u001b[30m0 \u001b[0m\u001b[30m0 \u001b[0m\u001b[30m0 \u001b[0m\u001b[36m6 \u001b[0m\u001b[30m0 \u001b[0m\u001b[30m0 \u001b[0m\u001b[36m…\u001b[0m │     │ \u001b[30m0 \u001b[0m\u001b[30m0 \u001b[0m\u001b[30m0 \u001b[0m\u001b[30m0 \u001b[0m\u001b[30m0 \u001b[0m\u001b[30m0…\u001b[0m ││   │\n",
       "│     │ \u001b[30m0 \u001b[0m\u001b[30m0 \u001b[0m\u001b[30m0 \u001b[0m\u001b[30m0 \u001b[0m\u001b[37m7 \u001b[0m\u001b[37m7 \u001b[0m\u001b[30m…\u001b[0m │     │ \u001b[30m0 \u001b[0m\u001b[30m0 \u001b[0m\u001b[30m0 \u001b[0m\u001b[30m0 \u001b[0m\u001b[34m4 \u001b[0m\u001b[30m0 \u001b[0m\u001b[30m…\u001b[0m │     │ \u001b[32m2 \u001b[0m\u001b[30m0 \u001b[0m\u001b[32m2 \u001b[0m\u001b[30m0 \u001b[0m\u001b[30m0 \u001b[0m\u001b[30m0 \u001b[0m\u001b[32m…\u001b[0m │     │ \u001b[30m0 \u001b[0m\u001b[30m0 \u001b[0m\u001b[30m0 \u001b[0m\u001b[30m0 \u001b[0m\u001b[36m6 \u001b[0m\u001b[36m6 \u001b[0m\u001b[30m…\u001b[0m │     │ \u001b[30m0 \u001b[0m\u001b[30m0 \u001b[0m\u001b[30m0 \u001b[0m\u001b[30m0 \u001b[0m\u001b[32m2 \u001b[0m\u001b[32m2…\u001b[0m ││   │\n",
       "└─────┴───────────────┴─────┴───────────────┴─────┴───────────────┴─────┴───────────────┴─────┴──────────────┴┴───┘\n"
      ]
     },
     "execution_count": 6,
     "metadata": {},
     "output_type": "execute_result"
    }
   ],
   "source": [
    "task.show()"
   ]
  },
  {
   "cell_type": "code",
   "execution_count": 13,
   "id": "be7f9507-8d79-4773-a9a5-5bf86596cc9c",
   "metadata": {},
   "outputs": [],
   "source": [
    "from arckit import vis\n",
    "\n",
    "task = train_set[0]\n",
    "grid = vis.draw_grid(task.train[0][0], xmax=3, ymax=3, padding=.5, label='Example')\n",
    "vis.output_drawing(grid, \"../data/visualization/grid_example.png\")\n",
    "\n",
    "grid = vis.draw_task(task, width=20, height=10, label='Example')\n",
    "vis.output_drawing(grid, \"../data/visualization/arcshow_example.png\")"
   ]
  },
  {
   "cell_type": "code",
   "execution_count": null,
   "id": "7d34656c-6b44-4d2f-b283-e22193e03c9f",
   "metadata": {},
   "outputs": [],
   "source": []
  }
 ],
 "metadata": {
  "kernelspec": {
   "display_name": "Python 3 (ipykernel)",
   "language": "python",
   "name": "python3"
  },
  "language_info": {
   "codemirror_mode": {
    "name": "ipython",
    "version": 3
   },
   "file_extension": ".py",
   "mimetype": "text/x-python",
   "name": "python",
   "nbconvert_exporter": "python",
   "pygments_lexer": "ipython3",
   "version": "3.12.2"
  }
 },
 "nbformat": 4,
 "nbformat_minor": 5
}
